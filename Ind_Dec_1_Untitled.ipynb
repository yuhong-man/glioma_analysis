{
 "cells": [
  {
   "cell_type": "code",
   "execution_count": 11,
   "metadata": {},
   "outputs": [],
   "source": [
    "import pandas as pd \n",
    "df_available = pd.read_excel('AvailableSamplesFromGEO.xlsx')\n",
    "srr_available = df_available[df_available['available'] == 1]['Run']\n",
    "with open('srr_avaliable_14.txt', 'w') as fw:\n",
    "    for srr in srr_available:\n",
    "        fw.write(srr)\n",
    "        fw.write('\\n')\n",
    "        "
   ]
  },
  {
   "cell_type": "code",
   "execution_count": 12,
   "metadata": {},
   "outputs": [
    {
     "name": "stdout",
     "output_type": "stream",
     "text": [
      "\n",
      "        path_mat = sys.argv[1]\n",
      "        path_required_cols = sys.argv[2]\n",
      "        output_path = sys.argv[3]\n",
      "    \n"
     ]
    }
   ],
   "source": [
    "%%bash\n",
    "ExtractMatrixColumns.py 01.inputdata.txt srr_avaliable_14.txt 01.inputdata.14samples.txt \n",
    "ExtractMatrixRows.py 01.coldata.txt srr_avaliable_14.txt 01.coldata.14samples.txt "
   ]
  },
  {
   "cell_type": "code",
   "execution_count": null,
   "metadata": {},
   "outputs": [],
   "source": [
    "%%bash\n",
    "# Run at 192.168.10.16\n",
    "cd /data2/wangb/projects/20200610_Brain/IndependentDataSet\n",
    "nohup DESeq2WGCNAPipeline.sh 01.inputdata.14samples.txt 01.coldata.14samples.txt none deg_wgcna_14samples independent_ > 14samples.log 2>&1 &"
   ]
  },
  {
   "cell_type": "code",
   "execution_count": null,
   "metadata": {},
   "outputs": [],
   "source": [
    "%%bash\n",
    "# Run at 192.168.10.16\n",
    "cd /data2/wangb/projects/20200610_Brain/IndependentDataSet\n",
    "rm -rf deg_wgcna_14samples_deg_for_wgcna\n",
    "nohup DESeq2WGCNAPipeline.sh 01.inputdata.14samples.txt 01.coldata.14samples.txt none deg_wgcna_14samples_deg_for_wgcna independent_ T > 14samples_deg_for_wgcna.log 2>&1 &"
   ]
  }
 ],
 "metadata": {
  "kernelspec": {
   "display_name": "Python 3",
   "language": "python",
   "name": "python3"
  },
  "language_info": {
   "codemirror_mode": {
    "name": "ipython",
    "version": 3
   },
   "file_extension": ".py",
   "mimetype": "text/x-python",
   "name": "python",
   "nbconvert_exporter": "python",
   "pygments_lexer": "ipython3",
   "version": "3.6.9"
  }
 },
 "nbformat": 4,
 "nbformat_minor": 2
}
