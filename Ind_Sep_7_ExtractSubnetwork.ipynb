{
 "cells": [
  {
   "cell_type": "code",
   "execution_count": 48,
   "metadata": {
    "scrolled": true
   },
   "outputs": [
    {
     "name": "stdout",
     "output_type": "stream",
     "text": [
      "2252 GBM_DESeq2_DEG.list.with_ENSP.xls.0.01.xls\n",
      "####################Help:\n",
      "if __name__ == \"__main__\":\n",
      "\n",
      "    import ShowHelp\n",
      "\n",
      "    path_ppi = sys.argv[1]\n",
      "\n",
      "    path_output = sys.argv[2]\n",
      "\n",
      "    paths_proteins = sys.argv[3:]\n",
      "\n",
      "    df_ppi = readPpi(path_ppi)\n",
      "\n",
      "    dict_paths_proteinlists = {basename(p):getProteinNamesFromTable(p) for p in paths_proteins}\n",
      "\n",
      "    edge_ends = ['item_id_a', 'item_id_b']\n",
      "\n",
      "    for filename_protein, protein_list in dict_paths_proteinlists.items(): \n",
      "\n",
      "        for edge_end in edge_ends:\n",
      "\n",
      "            indices = df_ppi[df_ppi[edge_end].isin(set(protein_list))].index\n",
      "\n",
      "            print('{} intersect edge_end {} results in {}'.format(filename_protein, edge_end, indices))\n",
      "\n",
      "            df_ppi.loc[indices, '{}_{}'.format(filename_protein, edge_end)] = 1\n",
      "\n",
      "\n",
      "\n",
      "    print(df_ppi.head())\n",
      "\n",
      "    length_of_new_columns = len(dict_paths_proteinlists) * len(edge_ends)\n",
      "\n",
      "    print(length_of_new_columns)\n",
      "\n",
      "    df_ppi.loc[:,'sum'] = df_ppi.iloc[:,-length_of_new_columns:].sum(axis=1)\n",
      "\n",
      "    df_ppi = df_ppi[df_ppi['sum'] > 0]\n",
      "\n",
      "    df_ppi.to_csv(path_output, sep='\\t', index=False) \n",
      "####################HelpEnd\n",
      "20200728_101845.txt.KDA_keydriver.xls contains proteins: 242\n",
      "20200728_101847.txt.KDA_keydriver.xls contains proteins: 431\n",
      "GBM_DESeq2_DEG.list.with_ENSP.xls.0.01.xls contains proteins: 551\n",
      "20200728_101845.txt.KDA_keydriver.xls intersect edge_end item_id_a results in Int64Index([  14831,   14832,   14833,   14834,   14835,   14836,   14837,\n",
      "              14838,   14839,   14840,\n",
      "            ...\n",
      "            3466428, 3466429, 3466430, 3466431, 3466432, 3466433, 3466434,\n",
      "            3466435, 3466436, 3466437],\n",
      "           dtype='int64', length=126327)\n",
      "20200728_101845.txt.KDA_keydriver.xls intersect edge_end item_id_b results in Int64Index([    455,     456,     457,     458,     459,     460,     826,\n",
      "                827,     828,     829,\n",
      "            ...\n",
      "            3470752, 3470753, 3470754, 3470755, 3470832, 3470833, 3470834,\n",
      "            3470835, 3470894, 3470895],\n",
      "           dtype='int64', length=126327)\n",
      "20200728_101847.txt.KDA_keydriver.xls intersect edge_end item_id_a results in Int64Index([  11044,   11045,   11046,   11047,   11048,   11049,   11050,\n",
      "              11051,   11052,   11053,\n",
      "            ...\n",
      "            3453148, 3453149, 3453150, 3453151, 3453152, 3453153, 3453154,\n",
      "            3453155, 3453156, 3453157],\n",
      "           dtype='int64', length=231152)\n",
      "20200728_101847.txt.KDA_keydriver.xls intersect edge_end item_id_b results in Int64Index([     46,      47,      48,      49,      50,      51,     119,\n",
      "                136,     137,     138,\n",
      "            ...\n",
      "            3470633, 3470634, 3470732, 3470733, 3470734, 3470735, 3470804,\n",
      "            3470805, 3470806, 3470807],\n",
      "           dtype='int64', length=231152)\n",
      "GBM_DESeq2_DEG.list.with_ENSP.xls.0.01.xls intersect edge_end item_id_a results in Int64Index([   3504,    3505,    3506,    3507,    3508,    3509,    3510,\n",
      "               3511,    3512,    3513,\n",
      "            ...\n",
      "            3461941, 3461942, 3461943, 3461944, 3461945, 3461946, 3461947,\n",
      "            3461948, 3461949, 3461950],\n",
      "           dtype='int64', length=84098)\n",
      "GBM_DESeq2_DEG.list.with_ENSP.xls.0.01.xls intersect edge_end item_id_b results in Int64Index([    222,     223,     224,     225,     776,     777,     778,\n",
      "                779,     780,     781,\n",
      "            ...\n",
      "            3469279, 3469280, 3469491, 3470276, 3470347, 3470836, 3470837,\n",
      "            3470838, 3470839, 3470875],\n",
      "           dtype='int64', length=84098)\n",
      "         item_id_a  ... GBM_DESeq2_DEG.list.with_ENSP.xls.0.01.xls_item_id_b\n",
      "0  ENSP00000000233  ...                                                NaN  \n",
      "1  ENSP00000000233  ...                                                NaN  \n",
      "2  ENSP00000000233  ...                                                NaN  \n",
      "3  ENSP00000000233  ...                                                NaN  \n",
      "4  ENSP00000000233  ...                                                NaN  \n",
      "\n",
      "[5 rows x 13 columns]\n",
      "6\n",
      "780281 subnet.txt\n"
     ]
    }
   ],
   "source": [
    "%%bash\n",
    "ExtractRowsWithColumnFilter.py  GBM_DESeq2_DEG.list.with_ENSP.xls   padj      \"<0.01\"  GBM_DESeq2_DEG.list.with_ENSP.xls.0.01.xls \n",
    "wc -l GBM_DESeq2_DEG.list.with_ENSP.xls.0.01.xls \n",
    "ExtractSubnetwork.py  /data2/wangb/databases/string_db/protein.actions.v11.0.txt subnet.txt  20200728_101845.txt.KDA_keydriver.xls  20200728_101847.txt.KDA_keydriver.xls GBM_DESeq2_DEG.list.with_ENSP.xls.0.01.xls\n",
    "wc -l subnet.txt"
   ]
  },
  {
   "cell_type": "code",
   "execution_count": 49,
   "metadata": {},
   "outputs": [],
   "source": []
  },
  {
   "cell_type": "code",
   "execution_count": 56,
   "metadata": {},
   "outputs": [
    {
     "data": {
      "text/plain": [
       "(68064, 17)"
      ]
     },
     "execution_count": 56,
     "metadata": {},
     "output_type": "execute_result"
    }
   ],
   "source": [
    "import pandas as pd \n",
    "df_in = pd.read_csv('subnet.txt', sep='\\t') \n",
    "# df_in_filtered =  df_in[(\n",
    "#                           (df_in['GBM_DESeq2_DEG.list.with_ENSP.xls.0.01.xls_item_id_a'] > 0) &\n",
    "#                           (df_in['GBM_DESeq2_DEG.list.with_ENSP.xls.0.01.xls_item_id_b'] > 0)\n",
    "#                          ) |\n",
    "#                         (\n",
    "#                           (df_in['20200728_101845.txt.KDA_keydriver.xls_item_id_a'] > 0) |\n",
    "#                           (df_in['20200728_101845.txt.KDA_keydriver.xls_item_id_b'] > 0) | \n",
    "#                           (df_in['20200728_101847.txt.KDA_keydriver.xls_item_id_a'] > 0) |\n",
    "#                           (df_in['20200728_101847.txt.KDA_keydriver.xls_item_id_b'] > 0)\n",
    "#                          )\n",
    "#                        ]  \n",
    "\n",
    "columns_for_item_id_a = filter(lambda x:x.endswith('_item_id_a'), df_in.columns)\n",
    "columns_for_item_id_b = filter(lambda x:x.endswith('_item_id_b'), df_in.columns)\n",
    "\n",
    "df_in.loc[:,\"sum_for_item_id_a\"] = df_in.loc[:,columns_for_item_id_a].sum(axis=1)\n",
    "df_in.loc[:,\"sum_for_item_id_b\"] = df_in.loc[:,columns_for_item_id_b].sum(axis=1)\n",
    "df_in.loc[:,\"both_end_involved\"] = df_in.loc[:,['sum_for_item_id_a', 'sum_for_item_id_b']].product(axis=1)\n",
    "\n",
    "df_in_filtered =  df_in[df_in['both_end_involved'] > 0]\n",
    "df_in_filtered.shape"
   ]
  },
  {
   "cell_type": "code",
   "execution_count": 57,
   "metadata": {},
   "outputs": [],
   "source": [
    "# import pandas as pd \n",
    "# df_in = pd.read_csv('subnet.txt', sep='\\t')\n",
    "# df_in_filtered = df_in[df_in['sum'] > 1.0]\n",
    "df_in_filtered.to_csv('subset_involved_in_keydriver_or_deg.txt', sep='\\t', index=False)"
   ]
  },
  {
   "cell_type": "code",
   "execution_count": 52,
   "metadata": {},
   "outputs": [
    {
     "data": {
      "text/plain": [
       "(652288, 14)"
      ]
     },
     "execution_count": 52,
     "metadata": {},
     "output_type": "execute_result"
    }
   ],
   "source": [
    "df_in_filtered.shape"
   ]
  },
  {
   "cell_type": "code",
   "execution_count": 53,
   "metadata": {},
   "outputs": [],
   "source": [
    "# Marks.\n",
    "df_deg = pd.read_csv('GBM_DESeq2_DEG.list.with_ENSP.xls', sep='\\t')\n",
    "df_kda_up = pd.read_csv('20200728_101845.txt.KDA_keydriver.xls', sep='\\t')\n",
    "df_kda_down = pd.read_csv('20200728_101847.txt.KDA_keydriver.xls', sep='\\t')"
   ]
  },
  {
   "cell_type": "code",
   "execution_count": 54,
   "metadata": {},
   "outputs": [],
   "source": [
    "# Filter significant degs. \n",
    "padj_threshold = 0.01\n",
    "df_deg = df_deg[df_deg.padj < padj_threshold]\n",
    "df_deg.loc[df_deg.log2FoldChange > 0, 'change'] = 'up' \n",
    "df_deg.loc[df_deg.log2FoldChange < 0, 'change'] = 'down'\n",
    "df_deg.to_csv('GBM_DESeq2_DEG.list.with_ENSP_with_up_down.xls', sep='\\t', index=False)"
   ]
  },
  {
   "cell_type": "code",
   "execution_count": 66,
   "metadata": {},
   "outputs": [
    {
     "name": "stdout",
     "output_type": "stream",
     "text": [
      "(1199, 2)\n"
     ]
    }
   ],
   "source": [
    "# Extract nodes with up / down / keydriver nodes. \n",
    "df_deg_nodes = df_deg.loc[:,['gene_id', 'change']].loc[df_deg['gene_id'].str.startswith('ENSP'),:] \n",
    "\n",
    "\n",
    "dfs_for_kda_nodes = []\n",
    "for direction, df_keydriver in [['up', df_kda_up], ['down', df_kda_down]]:\n",
    "    df_keydriver_nodes = df_keydriver.loc[:,['keydrivers']]\n",
    "    df_keydriver_nodes.loc[:,'change'] = '{}_keydriver'.format(direction)\n",
    "    df_keydriver_nodes.columns = ['gene_id','change']\n",
    "    dfs_for_kda_nodes.append(df_keydriver_nodes)\n",
    "\n",
    "\n",
    "df_concated_nodes = pd.concat([df_deg_nodes] + dfs_for_kda_nodes, axis=0)\n",
    "df_concated_nodes.drop_duplicates(subset=['gene_id'], inplace=True, keep='last')\n",
    "print(df_concated_nodes.shape)\n",
    "df_concated_nodes.to_excel('nodes_types.xlsx',index=False)"
   ]
  },
  {
   "cell_type": "code",
   "execution_count": 27,
   "metadata": {
    "scrolled": true
   },
   "outputs": [
    {
     "name": "stdout",
     "output_type": "stream",
     "text": [
      "####################Help:\n",
      "if __name__ == \"__main__\":\n",
      "\n",
      "    import ShowHelp\n",
      "\n",
      "    path_ppi = sys.argv[1]\n",
      "\n",
      "    path_output = sys.argv[2]\n",
      "\n",
      "    paths_proteins = sys.argv[3:]\n",
      "\n",
      "    df_ppi = readPpi(path_ppi)\n",
      "\n",
      "    dict_paths_proteinlists = {basename(p):getProteinNamesFromTable(p) for p in paths_proteins}\n",
      "\n",
      "    edge_ends = ['item_id_a', 'item_id_b']\n",
      "\n",
      "    for filename_protein, protein_list in dict_paths_proteinlists.items(): \n",
      "\n",
      "        for edge_end in edge_ends:\n",
      "\n",
      "            indices = df_ppi[df_ppi[edge_end].isin(set(protein_list))].index\n",
      "\n",
      "            print('{} intersect edge_end {} results in {}'.format(filename_protein, edge_end, indices))\n",
      "\n",
      "            df_ppi.loc[indices, '{}_{}'.format(filename_protein, edge_end)] = 1\n",
      "\n",
      "\n",
      "\n",
      "    print(df_ppi.head())\n",
      "\n",
      "    length_of_new_columns = len(dict_paths_proteinlists) * len(edge_ends)\n",
      "\n",
      "    print(length_of_new_columns)\n",
      "\n",
      "    df_ppi.loc[:,'sum'] = df_ppi.iloc[:,-length_of_new_columns:].sum(axis=1)\n",
      "\n",
      "    df_ppi = df_ppi[df_ppi['sum'] > 0]\n",
      "\n",
      "    df_ppi.to_csv(path_output, sep='\\t', index=False) \n",
      "####################HelpEnd\n",
      "20200728_101845.txt.KDA_keydriver.xls contains proteins: 242\n",
      "GBM_DESeq2_DEG.list.with_ENSP_with_up_down.xls contains proteins: 551\n",
      "20200728_101845.txt.KDA_keydriver.xls intersect edge_end item_id_a results in Int64Index([  14831,   14832,   14833,   14834,   14835,   14836,   14837,\n",
      "              14838,   14839,   14840,\n",
      "            ...\n",
      "            3466428, 3466429, 3466430, 3466431, 3466432, 3466433, 3466434,\n",
      "            3466435, 3466436, 3466437],\n",
      "           dtype='int64', length=126327)\n",
      "20200728_101845.txt.KDA_keydriver.xls intersect edge_end item_id_b results in Int64Index([    455,     456,     457,     458,     459,     460,     826,\n",
      "                827,     828,     829,\n",
      "            ...\n",
      "            3470752, 3470753, 3470754, 3470755, 3470832, 3470833, 3470834,\n",
      "            3470835, 3470894, 3470895],\n",
      "           dtype='int64', length=126327)\n",
      "GBM_DESeq2_DEG.list.with_ENSP_with_up_down.xls intersect edge_end item_id_a results in Int64Index([   3504,    3505,    3506,    3507,    3508,    3509,    3510,\n",
      "               3511,    3512,    3513,\n",
      "            ...\n",
      "            3461941, 3461942, 3461943, 3461944, 3461945, 3461946, 3461947,\n",
      "            3461948, 3461949, 3461950],\n",
      "           dtype='int64', length=84098)\n",
      "GBM_DESeq2_DEG.list.with_ENSP_with_up_down.xls intersect edge_end item_id_b results in Int64Index([    222,     223,     224,     225,     776,     777,     778,\n",
      "                779,     780,     781,\n",
      "            ...\n",
      "            3469279, 3469280, 3469491, 3470276, 3470347, 3470836, 3470837,\n",
      "            3470838, 3470839, 3470875],\n",
      "           dtype='int64', length=84098)\n",
      "         item_id_a  ... GBM_DESeq2_DEG.list.with_ENSP_with_up_down.xls_item_id_b\n",
      "0  ENSP00000000233  ...                                                NaN      \n",
      "1  ENSP00000000233  ...                                                NaN      \n",
      "2  ENSP00000000233  ...                                                NaN      \n",
      "3  ENSP00000000233  ...                                                NaN      \n",
      "4  ENSP00000000233  ...                                                NaN      \n",
      "\n",
      "[5 rows x 11 columns]\n",
      "4\n"
     ]
    }
   ],
   "source": [
    "%%bash\n",
    "ExtractSubnetwork.py  /data2/wangb/databases/string_db/protein.actions.v11.0.txt subnet.txt  20200728_101845.txt.KDA_keydriver.xls GBM_DESeq2_DEG.list.with_ENSP_with_up_down.xls"
   ]
  }
 ],
 "metadata": {
  "kernelspec": {
   "display_name": "Python 3",
   "language": "python",
   "name": "python3"
  },
  "language_info": {
   "codemirror_mode": {
    "name": "ipython",
    "version": 3
   },
   "file_extension": ".py",
   "mimetype": "text/x-python",
   "name": "python",
   "nbconvert_exporter": "python",
   "pygments_lexer": "ipython3",
   "version": "3.6.9"
  }
 },
 "nbformat": 4,
 "nbformat_minor": 2
}
