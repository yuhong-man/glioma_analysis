{
 "cells": [
  {
   "cell_type": "code",
   "execution_count": 10,
   "metadata": {},
   "outputs": [
    {
     "name": "stdout",
     "output_type": "stream",
     "text": [
      "####################Help:\n",
      "if __name__ == \"__main__\":\n",
      "import ShowHelp\n",
      "'''\n",
      "columns_and_filters is written in python syntax:\n",
      "ExtractRowsWithMultipleColumnFilters.py  subnet_20200922.txt  subnet_20200927.txt.deg_key_edges.txt \\\n",
      "\"((df_in['independent_DESeq2_DEG.list.p0.01.xls_item_id_a'] > 0) & (df_in['independent_DESeq2_DEG.list.up.txt.KDA_keydriver.xls.p0.01.xls_item_id_b'] > 0)) | ((df_in['independent_DESeq2_DEG.list.p0.01.xls_item_id_b'] > 0) & (df_in['independent_DESeq2_DEG.list.up.txt.KDA_keydriver.xls.p0.01.xls_item_id_a'] > 0))\"\n",
      "'''\n",
      "path, path_out = sys.argv[1:3]\n",
      "str_conditions = sys.argv[3]\n",
      "df_out = extractRowsWithColumnFilters(path, str_conditions)\n",
      "df_out.to_csv(path_out, sep='\\t', index=False)\n",
      "####################HelpEnd\n"
     ]
    }
   ],
   "source": [
    "%%bash\n",
    "log2FoldChange=1\n",
    "pvalue_for_DEG=0.001\n",
    "ExtractRowsWithMultipleColumnFilters.py TCGA_DESeq2_DEG.list   TCGA_DESeq2_DEG.list.fc${log2FoldChange}.p${pvalue_for_DEG}.xls  \\\n",
    "\"(df_in['padj']<${pvalue_for_DEG}) & ((df_in['log2FoldChange']>${log2FoldChange})|(df_in['log2FoldChange']<-${log2FoldChange}))\""
   ]
  },
  {
   "cell_type": "code",
   "execution_count": 12,
   "metadata": {},
   "outputs": [],
   "source": [
    "%%bash\n",
    "pvalue_for_KDA=0.05\n",
    "ExtractRowsWithColumnFilter.py TCGA_DESeq2_DEG.list.symbol.xls.dedup.xls.down.txt.KDA_keydriver.xls pvalue_subnet \"<${pvalue_for_KDA}\" TCGA_DESeq2_DEG.list.symbol.xls.dedup.xls.down.txt.KDA_keydriver.xls.${pvalue_for_KDA}.xls  "
   ]
  },
  {
   "cell_type": "code",
   "execution_count": null,
   "metadata": {},
   "outputs": [],
   "source": [
    "%%bash\n",
    "cd /data2/wangb/projects/20200610_Brain\n",
    "nohup DESeq2WGCNAPipeline.sh 01.inputdata.txt 01.coldata.txt 01.clinical.txt  DESeq2_TCGA_GBM_0.01 TCGA_GBM_ F 3 1 0.01 > TCGA_GBM_0.05_20201204.log 2>&1 &"
   ]
  }
 ],
 "metadata": {
  "kernelspec": {
   "display_name": "Python 3",
   "language": "python",
   "name": "python3"
  },
  "language_info": {
   "codemirror_mode": {
    "name": "ipython",
    "version": 3
   },
   "file_extension": ".py",
   "mimetype": "text/x-python",
   "name": "python",
   "nbconvert_exporter": "python",
   "pygments_lexer": "ipython3",
   "version": "3.6.9"
  }
 },
 "nbformat": 4,
 "nbformat_minor": 2
}
