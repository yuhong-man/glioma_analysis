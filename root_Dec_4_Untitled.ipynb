{
 "cells": [
  {
   "cell_type": "code",
   "execution_count": 1,
   "metadata": {},
   "outputs": [
    {
     "name": "stdout",
     "output_type": "stream",
     "text": [
      "1\n"
     ]
    }
   ],
   "source": [
    "%%bash\n",
    "# run on 16\n",
    "cd /data2/wangb/projects/20200610_Brain\n",
    "nohup DESeq2WGCNAPipeline.sh 01.inputdata.txt 01.coldata.txt none  DESeq2_TCGA_GBM_2_0.001 TCGA_GBM_ F 3 2 0.001 ENSEMBL > TCGA_GBM_2_0.001_20201204.log 2>&1 &"
   ]
  }
 ],
 "metadata": {
  "kernelspec": {
   "display_name": "Python 3",
   "language": "python",
   "name": "python3"
  },
  "language_info": {
   "codemirror_mode": {
    "name": "ipython",
    "version": 3
   },
   "file_extension": ".py",
   "mimetype": "text/x-python",
   "name": "python",
   "nbconvert_exporter": "python",
   "pygments_lexer": "ipython3",
   "version": "3.6.9"
  }
 },
 "nbformat": 4,
 "nbformat_minor": 2
}
