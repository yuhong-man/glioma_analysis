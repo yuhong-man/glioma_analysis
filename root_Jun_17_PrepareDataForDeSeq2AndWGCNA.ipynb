{
 "cells": [
  {
   "cell_type": "code",
   "execution_count": 15,
   "metadata": {},
   "outputs": [],
   "source": [
    "import pandas as pd \n",
    "import os \n",
    "df_in = pd.read_csv('gdc_sample_sheet.2020-06-16.tsv', sep='\\t')\n",
    "df_in = df_in[df_in['Project ID'] == 'TCGA-GBM']\n"
   ]
  },
  {
   "cell_type": "code",
   "execution_count": 16,
   "metadata": {},
   "outputs": [
    {
     "data": {
      "text/plain": [
       "Primary Tumor          156\n",
       "Recurrent Tumor         13\n",
       "Solid Tissue Normal      5\n",
       "Name: Sample Type, dtype: int64"
      ]
     },
     "execution_count": 16,
     "metadata": {},
     "output_type": "execute_result"
    }
   ],
   "source": [
    "def getSampleSourceFromSampleId(sample_id):\n",
    "    '''\n",
    "    No more in use. \n",
    "    '''\n",
    "    source_int = int(sample_id.split('-')[3][:2])\n",
    "    if source_int < 10:\n",
    "        source = 'tumuor'\n",
    "    elif source_int == 10:\n",
    "        source = 'blood'\n",
    "    else:\n",
    "        source = 'normal'\n",
    "    return source \n",
    "\n",
    "def getFileTypeSuffix(file_name):\n",
    "    '''\n",
    "    Only get the first content before the first . out. \n",
    "    '''\n",
    "    return '.'.join(file_name.split('.')[1:])\n",
    "\n",
    "df_in.loc[:,'FileSuffix'] = df_in.loc[:,'File Name'].map(getFileTypeSuffix)\n",
    "\n",
    "# Deseq2 request raw data. \n",
    "\n",
    "df_in = df_in[df_in['FileSuffix'] == 'htseq.counts.gz']\n",
    "df_in['Sample Type'].value_counts()\n",
    "\n",
    "\n"
   ]
  },
  {
   "cell_type": "code",
   "execution_count": 17,
   "metadata": {},
   "outputs": [],
   "source": [
    "df_in.drop(index=df_in[df_in['Sample Type']=='Recurrent Tumor'].index,inplace=True)\n",
    "df_in.drop_duplicates(subset=['Sample ID'], inplace=True)"
   ]
  },
  {
   "cell_type": "code",
   "execution_count": 18,
   "metadata": {},
   "outputs": [
    {
     "data": {
      "text/plain": [
       "Primary Tumor          155\n",
       "Solid Tissue Normal      5\n",
       "Name: Sample Type, dtype: int64"
      ]
     },
     "execution_count": 18,
     "metadata": {},
     "output_type": "execute_result"
    }
   ],
   "source": [
    "df_in['Sample Type'].value_counts()"
   ]
  },
  {
   "cell_type": "code",
   "execution_count": 19,
   "metadata": {},
   "outputs": [],
   "source": [
    "# Read dfs from each folder. \n",
    "import os \n",
    "dfs = [pd.read_csv(os.path.join(folder, filename), sep='\\t', index_col=0, header=None) for folder,filename in zip(df_in['File ID'],df_in['File Name'])]\n",
    "[df.drop(index=filter(lambda x:x.startswith('__'), df.index), inplace=True) for df in dfs]\n",
    "\n",
    "for sample_id, df in zip(df_in['Sample ID'], dfs):\n",
    "    df.columns = [sample_id]\n",
    "\n",
    "# dfs_without_dup = []\n",
    "# sample_ids = []\n",
    "# for sample_id,df in zip(df_in['Sample ID'], dfs):\n",
    "#     if sample_id in sample_ids:\n",
    "#         continue\n",
    "#     else:\n",
    "#         dfs_without_dup.append(df)\n",
    "\n",
    "# dfs = dfs_without_dup\n"
   ]
  },
  {
   "cell_type": "code",
   "execution_count": 20,
   "metadata": {},
   "outputs": [],
   "source": [
    "df_concated_raw_counts = pd.concat(dfs, axis=1)\n",
    "df_concated_raw_counts.to_csv('01.inputdata.txt', sep='\\t')"
   ]
  },
  {
   "cell_type": "code",
   "execution_count": 21,
   "metadata": {},
   "outputs": [],
   "source": [
    "df_clinical = df_in.loc[:,['Sample ID', 'Sample Type']]\n",
    "df_clinical.replace({'Primary Tumor':'T', 'Solid Tissue Normal':'N'}, inplace=True)\n",
    "df_clinical.rename(columns={'Sample ID':'sample_id', 'Sample Type':'condition'},inplace=True)\n",
    "df_clinical.drop_duplicates(inplace=True)\n",
    "df_clinical.to_csv('01.coldata.txt', sep='\\t', index=False)"
   ]
  }
 ],
 "metadata": {
  "kernelspec": {
   "display_name": "Python 3",
   "language": "python",
   "name": "python3"
  },
  "language_info": {
   "codemirror_mode": {
    "name": "ipython",
    "version": 3
   },
   "file_extension": ".py",
   "mimetype": "text/x-python",
   "name": "python",
   "nbconvert_exporter": "python",
   "pygments_lexer": "ipython3",
   "version": "3.6.9"
  }
 },
 "nbformat": 4,
 "nbformat_minor": 2
}
